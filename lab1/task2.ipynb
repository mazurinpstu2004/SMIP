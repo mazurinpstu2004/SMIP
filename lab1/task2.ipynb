{
 "cells": [
  {
   "metadata": {},
   "cell_type": "markdown",
   "source": "## Лабораторная № 1. Задание 2",
   "id": "4c86075b36e45ea1"
  },
  {
   "cell_type": "code",
   "id": "initial_id",
   "metadata": {
    "collapsed": true,
    "ExecuteTime": {
     "end_time": "2025-09-24T05:18:26.886253Z",
     "start_time": "2025-09-24T05:18:26.822711Z"
    }
   },
   "source": [
    "import pandas as pd\n",
    "from urllib.parse import quote"
   ],
   "outputs": [],
   "execution_count": 13
  },
  {
   "metadata": {},
   "cell_type": "markdown",
   "source": "Загрузка html",
   "id": "2da3bed5b050f6aa"
  },
  {
   "metadata": {
    "ExecuteTime": {
     "end_time": "2025-09-24T05:18:28.386613Z",
     "start_time": "2025-09-24T05:18:26.902905Z"
    }
   },
   "cell_type": "code",
   "source": [
    "url = \"https://pstu.ru/files/file/Abitur/2025%20final/ФПММ_Б_Н_000007052.html\"\n",
    "encoded_url = quote(url, safe=':/%')\n",
    "initial_df = pd.read_html(encoded_url)[0]\n"
   ],
   "id": "efc961aeb8c03376",
   "outputs": [],
   "execution_count": 14
  },
  {
   "metadata": {},
   "cell_type": "markdown",
   "source": "Функция для чистки таблицы",
   "id": "650dd73436d37b95"
  },
  {
   "metadata": {
    "ExecuteTime": {
     "end_time": "2025-09-24T05:18:28.405134Z",
     "start_time": "2025-09-24T05:18:28.395662Z"
    }
   },
   "cell_type": "code",
   "source": [
    "def clear_table(df):\n",
    "    col = df.iloc[12].tolist()\n",
    "    df.columns = col\n",
    "    df_cleared = df.loc[13:]\n",
    "    df_cleared = df_cleared.loc[13:]\n",
    "    df_cleared = df_cleared.reset_index(drop=True)\n",
    "    df_cleared = df_cleared.dropna(axis=1)\n",
    "    df_cleared = df_cleared.drop(columns=['№', 'Уникальный код', 'Представление приказа', 'Учебная группа'])\n",
    "    return df_cleared"
   ],
   "id": "67addf8b8cfdac94",
   "outputs": [],
   "execution_count": 15
  },
  {
   "metadata": {},
   "cell_type": "markdown",
   "source": "Функция для получения предметов",
   "id": "a296d46f26ab9411"
  },
  {
   "metadata": {
    "ExecuteTime": {
     "end_time": "2025-09-24T05:18:28.424163Z",
     "start_time": "2025-09-24T05:18:28.414554Z"
    }
   },
   "cell_type": "code",
   "source": [
    "def get_subjects(df):\n",
    "    return df.columns[1:4].tolist()"
   ],
   "id": "c2e87e0e5b99e06a",
   "outputs": [],
   "execution_count": 16
  },
  {
   "metadata": {},
   "cell_type": "markdown",
   "source": "Функция для приведения типов",
   "id": "6f516ad5d4aa122c"
  },
  {
   "metadata": {
    "ExecuteTime": {
     "end_time": "2025-09-24T05:18:28.438496Z",
     "start_time": "2025-09-24T05:18:28.434200Z"
    }
   },
   "cell_type": "code",
   "source": [
    "def table_to_numeric(df):\n",
    "    return df[df.columns].astype(int)"
   ],
   "id": "e01f8be843685b77",
   "outputs": [],
   "execution_count": 17
  },
  {
   "metadata": {},
   "cell_type": "markdown",
   "source": "Функции для поиска среднего, минимального и максимального суммарных баллов",
   "id": "f0016040ee6d1d97"
  },
  {
   "metadata": {
    "ExecuteTime": {
     "end_time": "2025-09-24T05:18:28.456027Z",
     "start_time": "2025-09-24T05:18:28.450510Z"
    }
   },
   "cell_type": "code",
   "source": [
    "def find_average_points(df):\n",
    "    return (df['Сумма баллов'].mean()).astype(int)\n",
    "\n",
    "def find_min_points(df):\n",
    "    return df['Сумма баллов'].min()\n",
    "\n",
    "def find_max_points(df):\n",
    "    return df['Сумма баллов'].max()"
   ],
   "id": "d8b606038c3dac93",
   "outputs": [],
   "execution_count": 18
  },
  {
   "metadata": {},
   "cell_type": "markdown",
   "source": [
    "- Функция для поиска средних баллов по предметам\n",
    "- Функция для поиска предмета с наивысшим средним"
   ],
   "id": "7c5e931241697275"
  },
  {
   "metadata": {
    "ExecuteTime": {
     "end_time": "2025-09-24T05:18:28.468037Z",
     "start_time": "2025-09-24T05:18:28.464045Z"
    }
   },
   "cell_type": "code",
   "source": [
    "def get_subject_avg_points(df):\n",
    "    subjects = get_subjects(df)\n",
    "    avg_points = df[subjects].mean().astype(int)\n",
    "    return avg_points"
   ],
   "id": "f5ab824067a7ab5f",
   "outputs": [],
   "execution_count": 19
  },
  {
   "metadata": {},
   "cell_type": "markdown",
   "source": "Функция для определения количества студентов типа 1 и типа 2",
   "id": "2b36aff352dadac6"
  },
  {
   "metadata": {
    "ExecuteTime": {
     "end_time": "2025-09-24T05:18:28.482555Z",
     "start_time": "2025-09-24T05:18:28.474577Z"
    }
   },
   "cell_type": "code",
   "source": [
    "def find_type1_students(df, subjects, subject_avg_points):\n",
    "    return df[(df[subjects[0]] > subject_avg_points[subjects[0]]) & (df[subjects[1]] > subject_avg_points[subjects[1]]) & (df[subjects[2]] < subject_avg_points[subjects[2]])].shape[0]\n",
    "\n",
    "def find_type2_students(df, subjects, subject_avg_points):\n",
    "    return df[(df[subjects[0]] < subject_avg_points[subjects[0]]) & (df[subjects[1]] < subject_avg_points[subjects[1]]) & (df[subjects[2]] > subject_avg_points[subjects[2]])].shape[0]"
   ],
   "id": "3f87120bd546409f",
   "outputs": [],
   "execution_count": 20
  },
  {
   "metadata": {},
   "cell_type": "markdown",
   "source": "Функция для построения итоговой таблицы",
   "id": "8cf3a73120c0df78"
  },
  {
   "metadata": {
    "ExecuteTime": {
     "end_time": "2025-09-24T05:18:28.500968Z",
     "start_time": "2025-09-24T05:18:28.489502Z"
    }
   },
   "cell_type": "code",
   "source": [
    "def create_final_table(initial_df, numeric_df):\n",
    "    cols = [\"Подразделение\", \"Уровень подготовки\", \"Направление подготовки/специальность\", \"Год\", \"Количество мест\", \"Предметы ЕГЭ\",\n",
    "            \"Средняя сумма баллов\", \"Min сумма баллов\", \"Max сумма баллов\", \"Предмет с высшим средним\", \"Кол-во студентов тип_1\", \"Кол-во студентов тип_2\"]\n",
    "    final_df = pd.DataFrame(columns=cols)\n",
    "\n",
    "    department = initial_df.iloc[4, 0]\n",
    "    department = department.split(' - ')[1]\n",
    "    final_df['Подразделение'] = [department]\n",
    "\n",
    "    level = initial_df.iloc[5, 0]\n",
    "    level = level.split(' - ')[1]\n",
    "    final_df['Уровень подготовки'] = [level]\n",
    "\n",
    "    specialization = initial_df.iloc[6, 0]\n",
    "    specialization = specialization.split(' - ')[1]\n",
    "    final_df['Направление подготовки/специальность'] = [specialization]\n",
    "\n",
    "    year = initial_df.iloc[2, 0]\n",
    "    year = year[26:30]\n",
    "    final_df['Год'] = [year]\n",
    "\n",
    "    place_count = initial_df.iloc[10, 0]\n",
    "    place_count = place_count[12:15]\n",
    "    final_df['Количество мест'] = [place_count]\n",
    "\n",
    "    subjects = get_subjects(numeric_df)\n",
    "    final_df['Предметы ЕГЭ'] = [subjects]\n",
    "\n",
    "    final_df['Средняя сумма баллов'] = [find_average_points(numeric_df)]\n",
    "\n",
    "    final_df['Min сумма баллов'] = [find_min_points(numeric_df)]\n",
    "\n",
    "    final_df['Max сумма баллов'] = [find_max_points(numeric_df)]\n",
    "\n",
    "    subject_avg_points = get_subject_avg_points(numeric_df)\n",
    "    final_df['Предмет с высшим средним'] = [subject_avg_points.idxmax()]\n",
    "\n",
    "    final_df['Кол-во студентов тип_1'] = [find_type1_students(numeric_df, subjects, subject_avg_points)]\n",
    "\n",
    "    final_df['Кол-во студентов тип_2'] = [find_type2_students(numeric_df, subjects, subject_avg_points)]\n",
    "\n",
    "    return final_df"
   ],
   "id": "49f0416a7412a3a9",
   "outputs": [],
   "execution_count": 21
  },
  {
   "metadata": {
    "ExecuteTime": {
     "end_time": "2025-09-24T05:18:28.559579Z",
     "start_time": "2025-09-24T05:18:28.509982Z"
    }
   },
   "cell_type": "code",
   "source": [
    "# Вызов функций\n",
    "cleared_df = clear_table(initial_df)\n",
    "numeric_df = table_to_numeric(cleared_df)\n",
    "final_result = create_final_table(initial_df, numeric_df)\n",
    "display(final_result)"
   ],
   "id": "d4ea39f86e481775",
   "outputs": [
    {
     "data": {
      "text/plain": [
       "                                Подразделение Уровень подготовки  \\\n",
       "0  Факультет прикладной математики и механики        Бакалавриат   \n",
       "\n",
       "  Направление подготовки/специальность   Год Количество мест  \\\n",
       "0  Информационные системы и технологии  2025             62.   \n",
       "\n",
       "                                        Предметы ЕГЭ  Средняя сумма баллов  \\\n",
       "0  [АиНМА / Математика, ИТ / Информатика и ИКТ / ...                   216   \n",
       "\n",
       "   Min сумма баллов  Max сумма баллов Предмет с высшим средним  \\\n",
       "0               200               248       АиНМА / Математика   \n",
       "\n",
       "   Кол-во студентов тип_1  Кол-во студентов тип_2  \n",
       "0                       4                       6  "
      ],
      "text/html": [
       "<div>\n",
       "<style scoped>\n",
       "    .dataframe tbody tr th:only-of-type {\n",
       "        vertical-align: middle;\n",
       "    }\n",
       "\n",
       "    .dataframe tbody tr th {\n",
       "        vertical-align: top;\n",
       "    }\n",
       "\n",
       "    .dataframe thead th {\n",
       "        text-align: right;\n",
       "    }\n",
       "</style>\n",
       "<table border=\"1\" class=\"dataframe\">\n",
       "  <thead>\n",
       "    <tr style=\"text-align: right;\">\n",
       "      <th></th>\n",
       "      <th>Подразделение</th>\n",
       "      <th>Уровень подготовки</th>\n",
       "      <th>Направление подготовки/специальность</th>\n",
       "      <th>Год</th>\n",
       "      <th>Количество мест</th>\n",
       "      <th>Предметы ЕГЭ</th>\n",
       "      <th>Средняя сумма баллов</th>\n",
       "      <th>Min сумма баллов</th>\n",
       "      <th>Max сумма баллов</th>\n",
       "      <th>Предмет с высшим средним</th>\n",
       "      <th>Кол-во студентов тип_1</th>\n",
       "      <th>Кол-во студентов тип_2</th>\n",
       "    </tr>\n",
       "  </thead>\n",
       "  <tbody>\n",
       "    <tr>\n",
       "      <th>0</th>\n",
       "      <td>Факультет прикладной математики и механики</td>\n",
       "      <td>Бакалавриат</td>\n",
       "      <td>Информационные системы и технологии</td>\n",
       "      <td>2025</td>\n",
       "      <td>62.</td>\n",
       "      <td>[АиНМА / Математика, ИТ / Информатика и ИКТ / ...</td>\n",
       "      <td>216</td>\n",
       "      <td>200</td>\n",
       "      <td>248</td>\n",
       "      <td>АиНМА / Математика</td>\n",
       "      <td>4</td>\n",
       "      <td>6</td>\n",
       "    </tr>\n",
       "  </tbody>\n",
       "</table>\n",
       "</div>"
      ]
     },
     "metadata": {},
     "output_type": "display_data"
    }
   ],
   "execution_count": 22
  }
 ],
 "metadata": {
  "kernelspec": {
   "display_name": "Python 3",
   "language": "python",
   "name": "python3"
  },
  "language_info": {
   "codemirror_mode": {
    "name": "ipython",
    "version": 2
   },
   "file_extension": ".py",
   "mimetype": "text/x-python",
   "name": "python",
   "nbconvert_exporter": "python",
   "pygments_lexer": "ipython2",
   "version": "2.7.6"
  }
 },
 "nbformat": 4,
 "nbformat_minor": 5
}
